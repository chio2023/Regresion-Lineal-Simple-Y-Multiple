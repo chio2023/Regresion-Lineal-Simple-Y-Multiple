{
  "cells": [
    {
      "cell_type": "markdown",
      "metadata": {
        "colab_type": "text",
        "id": "view-in-github"
      },
      "source": [
        "<a href=\"https://colab.research.google.com/github/freddy-7/TI3002C/blob/main/7_Regresi%C3%B3n_Lineal_M%C3%BAltiple.ipynb\" target=\"_parent\"><img src=\"https://colab.research.google.com/assets/colab-badge.svg\" alt=\"Open In Colab\"/></a>"
      ]
    },
    {
      "cell_type": "code",
      "execution_count": 2,
      "metadata": {
        "id": "h-kgQF4jLQ7t"
      },
      "outputs": [],
      "source": [
        "import pandas as pd\n",
        "import numpy as np\n",
        "import matplotlib.pyplot as plt\n",
        "import seaborn as sns"
      ]
    },
    {
      "cell_type": "code",
      "execution_count": 3,
      "metadata": {
        "id": "6hL7r2rqLkLC"
      },
      "outputs": [
        {
          "data": {
            "text/html": [
              "<div>\n",
              "<style scoped>\n",
              "    .dataframe tbody tr th:only-of-type {\n",
              "        vertical-align: middle;\n",
              "    }\n",
              "\n",
              "    .dataframe tbody tr th {\n",
              "        vertical-align: top;\n",
              "    }\n",
              "\n",
              "    .dataframe thead th {\n",
              "        text-align: right;\n",
              "    }\n",
              "</style>\n",
              "<table border=\"1\" class=\"dataframe\">\n",
              "  <thead>\n",
              "    <tr style=\"text-align: right;\">\n",
              "      <th></th>\n",
              "      <th>Unnamed: 0</th>\n",
              "      <th>id</th>\n",
              "      <th>host_id</th>\n",
              "      <th>host_acceptance_rate</th>\n",
              "      <th>host_is_superhost</th>\n",
              "      <th>host_listings_count</th>\n",
              "      <th>host_total_listings_count</th>\n",
              "      <th>host_identity_verified</th>\n",
              "      <th>property_type</th>\n",
              "      <th>room_type</th>\n",
              "      <th>...</th>\n",
              "      <th>review_scores_location</th>\n",
              "      <th>review_scores_value</th>\n",
              "      <th>instant_bookable</th>\n",
              "      <th>calculated_host_listings_count</th>\n",
              "      <th>calculated_host_listings_count_entire_homes</th>\n",
              "      <th>calculated_host_listings_count_private_rooms</th>\n",
              "      <th>calculated_host_listings_count_shared_rooms</th>\n",
              "      <th>reviews_per_month</th>\n",
              "      <th>host_total_listings_count.1</th>\n",
              "      <th>price</th>\n",
              "    </tr>\n",
              "  </thead>\n",
              "  <tbody>\n",
              "    <tr>\n",
              "      <th>0</th>\n",
              "      <td>0</td>\n",
              "      <td>2.246641e+07</td>\n",
              "      <td>164674166</td>\n",
              "      <td>100.0</td>\n",
              "      <td>0</td>\n",
              "      <td>1</td>\n",
              "      <td>3</td>\n",
              "      <td>0</td>\n",
              "      <td>Entire rental unit</td>\n",
              "      <td>Entire home/apt</td>\n",
              "      <td>...</td>\n",
              "      <td>4.86</td>\n",
              "      <td>4.56</td>\n",
              "      <td>0</td>\n",
              "      <td>1</td>\n",
              "      <td>1</td>\n",
              "      <td>0</td>\n",
              "      <td>0</td>\n",
              "      <td>0.43</td>\n",
              "      <td>3</td>\n",
              "      <td>$290.00</td>\n",
              "    </tr>\n",
              "    <tr>\n",
              "      <th>1</th>\n",
              "      <td>1</td>\n",
              "      <td>7.060000e+17</td>\n",
              "      <td>48092742</td>\n",
              "      <td>100.0</td>\n",
              "      <td>0</td>\n",
              "      <td>46</td>\n",
              "      <td>77</td>\n",
              "      <td>0</td>\n",
              "      <td>Entire condo</td>\n",
              "      <td>Entire home/apt</td>\n",
              "      <td>...</td>\n",
              "      <td>4.93</td>\n",
              "      <td>4.79</td>\n",
              "      <td>0</td>\n",
              "      <td>46</td>\n",
              "      <td>24</td>\n",
              "      <td>22</td>\n",
              "      <td>0</td>\n",
              "      <td>0.43</td>\n",
              "      <td>77</td>\n",
              "      <td>$390.00</td>\n",
              "    </tr>\n",
              "    <tr>\n",
              "      <th>2</th>\n",
              "      <td>2</td>\n",
              "      <td>7.360000e+17</td>\n",
              "      <td>48092742</td>\n",
              "      <td>100.0</td>\n",
              "      <td>0</td>\n",
              "      <td>46</td>\n",
              "      <td>77</td>\n",
              "      <td>0</td>\n",
              "      <td>Private room in condo</td>\n",
              "      <td>Private room</td>\n",
              "      <td>...</td>\n",
              "      <td>4.93</td>\n",
              "      <td>4.79</td>\n",
              "      <td>0</td>\n",
              "      <td>46</td>\n",
              "      <td>24</td>\n",
              "      <td>22</td>\n",
              "      <td>0</td>\n",
              "      <td>0.43</td>\n",
              "      <td>77</td>\n",
              "      <td>$420.00</td>\n",
              "    </tr>\n",
              "    <tr>\n",
              "      <th>3</th>\n",
              "      <td>3</td>\n",
              "      <td>1.210000e+18</td>\n",
              "      <td>12355491</td>\n",
              "      <td>100.0</td>\n",
              "      <td>1</td>\n",
              "      <td>6</td>\n",
              "      <td>6</td>\n",
              "      <td>1</td>\n",
              "      <td>Private room in rental unit</td>\n",
              "      <td>Private room</td>\n",
              "      <td>...</td>\n",
              "      <td>4.93</td>\n",
              "      <td>4.79</td>\n",
              "      <td>1</td>\n",
              "      <td>6</td>\n",
              "      <td>0</td>\n",
              "      <td>4</td>\n",
              "      <td>0</td>\n",
              "      <td>3.31</td>\n",
              "      <td>6</td>\n",
              "      <td>$167.00</td>\n",
              "    </tr>\n",
              "    <tr>\n",
              "      <th>4</th>\n",
              "      <td>4</td>\n",
              "      <td>1.210000e+18</td>\n",
              "      <td>311957953</td>\n",
              "      <td>100.0</td>\n",
              "      <td>1</td>\n",
              "      <td>12</td>\n",
              "      <td>18</td>\n",
              "      <td>1</td>\n",
              "      <td>Entire rental unit</td>\n",
              "      <td>Entire home/apt</td>\n",
              "      <td>...</td>\n",
              "      <td>5.00</td>\n",
              "      <td>5.00</td>\n",
              "      <td>1</td>\n",
              "      <td>12</td>\n",
              "      <td>12</td>\n",
              "      <td>0</td>\n",
              "      <td>0</td>\n",
              "      <td>1.05</td>\n",
              "      <td>18</td>\n",
              "      <td>$289.00</td>\n",
              "    </tr>\n",
              "  </tbody>\n",
              "</table>\n",
              "<p>5 rows × 45 columns</p>\n",
              "</div>"
            ],
            "text/plain": [
              "   Unnamed: 0            id    host_id  host_acceptance_rate  \\\n",
              "0           0  2.246641e+07  164674166                 100.0   \n",
              "1           1  7.060000e+17   48092742                 100.0   \n",
              "2           2  7.360000e+17   48092742                 100.0   \n",
              "3           3  1.210000e+18   12355491                 100.0   \n",
              "4           4  1.210000e+18  311957953                 100.0   \n",
              "\n",
              "   host_is_superhost  host_listings_count  host_total_listings_count  \\\n",
              "0                  0                    1                          3   \n",
              "1                  0                   46                         77   \n",
              "2                  0                   46                         77   \n",
              "3                  1                    6                          6   \n",
              "4                  1                   12                         18   \n",
              "\n",
              "   host_identity_verified                property_type        room_type  ...  \\\n",
              "0                       0           Entire rental unit  Entire home/apt  ...   \n",
              "1                       0                 Entire condo  Entire home/apt  ...   \n",
              "2                       0        Private room in condo     Private room  ...   \n",
              "3                       1  Private room in rental unit     Private room  ...   \n",
              "4                       1           Entire rental unit  Entire home/apt  ...   \n",
              "\n",
              "   review_scores_location  review_scores_value  instant_bookable  \\\n",
              "0                    4.86                 4.56                 0   \n",
              "1                    4.93                 4.79                 0   \n",
              "2                    4.93                 4.79                 0   \n",
              "3                    4.93                 4.79                 1   \n",
              "4                    5.00                 5.00                 1   \n",
              "\n",
              "   calculated_host_listings_count  \\\n",
              "0                               1   \n",
              "1                              46   \n",
              "2                              46   \n",
              "3                               6   \n",
              "4                              12   \n",
              "\n",
              "   calculated_host_listings_count_entire_homes  \\\n",
              "0                                            1   \n",
              "1                                           24   \n",
              "2                                           24   \n",
              "3                                            0   \n",
              "4                                           12   \n",
              "\n",
              "   calculated_host_listings_count_private_rooms  \\\n",
              "0                                             0   \n",
              "1                                            22   \n",
              "2                                            22   \n",
              "3                                             4   \n",
              "4                                             0   \n",
              "\n",
              "   calculated_host_listings_count_shared_rooms  reviews_per_month  \\\n",
              "0                                            0               0.43   \n",
              "1                                            0               0.43   \n",
              "2                                            0               0.43   \n",
              "3                                            0               3.31   \n",
              "4                                            0               1.05   \n",
              "\n",
              "   host_total_listings_count.1    price  \n",
              "0                            3  $290.00  \n",
              "1                           77  $390.00  \n",
              "2                           77  $420.00  \n",
              "3                            6  $167.00  \n",
              "4                           18  $289.00  \n",
              "\n",
              "[5 rows x 45 columns]"
            ]
          },
          "execution_count": 3,
          "metadata": {},
          "output_type": "execute_result"
        }
      ],
      "source": [
        "#Carga rachivo csv\n",
        "df=pd.read_csv(\"venecia_bueno_sin_nulos22.csv\")\n",
        "df.head(5)"
      ]
    },
    {
      "cell_type": "code",
      "execution_count": 4,
      "metadata": {},
      "outputs": [
        {
          "name": "stderr",
          "output_type": "stream",
          "text": [
            "<>:1: SyntaxWarning: invalid escape sequence '\\$'\n",
            "<>:1: SyntaxWarning: invalid escape sequence '\\$'\n",
            "C:\\Users\\HP\\AppData\\Local\\Temp\\ipykernel_15016\\271462396.py:1: SyntaxWarning: invalid escape sequence '\\$'\n",
            "  df['price'] = df['price'].astype(str).str.replace('[\\$,]', '', regex=True).astype(float)\n"
          ]
        }
      ],
      "source": [
        "df['price'] = df['price'].astype(str).str.replace('[\\$,]', '', regex=True).astype(float)"
      ]
    },
    {
      "cell_type": "code",
      "execution_count": 107,
      "metadata": {},
      "outputs": [
        {
          "name": "stdout",
          "output_type": "stream",
          "text": [
            "<class 'pandas.core.frame.DataFrame'>\n",
            "RangeIndex: 8163 entries, 0 to 8162\n",
            "Data columns (total 45 columns):\n",
            " #   Column                                        Non-Null Count  Dtype  \n",
            "---  ------                                        --------------  -----  \n",
            " 0   Unnamed: 0                                    8163 non-null   int64  \n",
            " 1   id                                            8163 non-null   float64\n",
            " 2   host_id                                       8163 non-null   int64  \n",
            " 3   host_acceptance_rate                          8163 non-null   float64\n",
            " 4   host_is_superhost                             8163 non-null   int64  \n",
            " 5   host_listings_count                           8163 non-null   int64  \n",
            " 6   host_total_listings_count                     8163 non-null   int64  \n",
            " 7   host_identity_verified                        8163 non-null   int64  \n",
            " 8   property_type                                 8163 non-null   object \n",
            " 9   room_type                                     8163 non-null   object \n",
            " 10  accommodates                                  8163 non-null   int64  \n",
            " 11  bathrooms                                     8163 non-null   float64\n",
            " 12  bedrooms                                      8163 non-null   int64  \n",
            " 13  beds                                          8163 non-null   int64  \n",
            " 14  minimum_nights                                8163 non-null   int64  \n",
            " 15  maximum_nights                                8163 non-null   int64  \n",
            " 16  minimum_minimum_nights                        8163 non-null   int64  \n",
            " 17  maximum_minimum_nights                        8163 non-null   int64  \n",
            " 18  minimum_maximum_nights                        8163 non-null   int64  \n",
            " 19  maximum_maximum_nights                        8163 non-null   int64  \n",
            " 20  minimum_nights_avg_ntm                        8163 non-null   float64\n",
            " 21  maximum_nights_avg_ntm                        8163 non-null   float64\n",
            " 22  availability_30                               8163 non-null   int64  \n",
            " 23  availability_60                               8163 non-null   int64  \n",
            " 24  availability_90                               8163 non-null   int64  \n",
            " 25  availability_365                              8163 non-null   int64  \n",
            " 26  calendar_last_scraped                         8163 non-null   object \n",
            " 27  number_of_reviews                             8163 non-null   int64  \n",
            " 28  number_of_reviews_ltm                         8163 non-null   int64  \n",
            " 29  number_of_reviews_l30d                        8163 non-null   int64  \n",
            " 30  review_scores_rating                          8163 non-null   float64\n",
            " 31  review_scores_accuracy                        8163 non-null   float64\n",
            " 32  review_scores_cleanliness                     8163 non-null   float64\n",
            " 33  review_scores_checkin                         8163 non-null   float64\n",
            " 34  review_scores_communication                   8163 non-null   float64\n",
            " 35  review_scores_location                        8163 non-null   float64\n",
            " 36  review_scores_value                           8163 non-null   float64\n",
            " 37  instant_bookable                              8163 non-null   int64  \n",
            " 38  calculated_host_listings_count                8163 non-null   int64  \n",
            " 39  calculated_host_listings_count_entire_homes   8163 non-null   int64  \n",
            " 40  calculated_host_listings_count_private_rooms  8163 non-null   int64  \n",
            " 41  calculated_host_listings_count_shared_rooms   8163 non-null   int64  \n",
            " 42  reviews_per_month                             8163 non-null   float64\n",
            " 43  host_total_listings_count.1                   8163 non-null   int64  \n",
            " 44  price                                         8163 non-null   float64\n",
            "dtypes: float64(14), int64(28), object(3)\n",
            "memory usage: 2.8+ MB\n"
          ]
        }
      ],
      "source": [
        "df.info()"
      ]
    },
    {
      "cell_type": "code",
      "execution_count": 5,
      "metadata": {},
      "outputs": [],
      "source": [
        "#eliminamos la columna tipo string\n",
        "df=df.drop([\"property_type\"],axis=1)\n",
        "df=df.drop([\"calendar_last_scraped\"],axis=1)\n",
        "df=df.drop([\"room_type\"],axis=1)"
      ]
    },
    {
      "cell_type": "markdown",
      "metadata": {},
      "source": [
        "host_acceptance_rate"
      ]
    },
    {
      "cell_type": "code",
      "execution_count": 109,
      "metadata": {},
      "outputs": [
        {
          "name": "stdout",
          "output_type": "stream",
          "text": [
            "host_acceptance_rate     1.000000\n",
            "instant_bookable         0.363637\n",
            "host_is_superhost        0.197798\n",
            "number_of_reviews_ltm    0.186747\n",
            "reviews_per_month        0.149574\n",
            "number_of_reviews        0.144928\n",
            "Name: host_acceptance_rate, dtype: float64\n"
          ]
        }
      ],
      "source": [
        "correlaciones = df.corr()\n",
        "# Seleccionar solo las correlaciones de 'bedrooms'\n",
        "correlaciones_bedrooms = correlaciones['host_acceptance_rate'].sort_values(ascending=False)\n",
        "# Mostrar las 5 variables más correlacionadas con 'bedrooms'\n",
        "print(correlaciones_bedrooms.head(6))  "
      ]
    },
    {
      "cell_type": "code",
      "execution_count": 110,
      "metadata": {
        "id": "mY7wifKkL0sx"
      },
      "outputs": [],
      "source": [
        "#Declaramos las variables dependientes e independientes para la regresión lineal\n",
        "Vars_Indep= df[['instant_bookable', 'host_is_superhost','number_of_reviews_ltm']]\n",
        "Var_Dep= df['host_acceptance_rate']"
      ]
    },
    {
      "cell_type": "code",
      "execution_count": 6,
      "metadata": {
        "id": "Jby7vWxVL2ZS"
      },
      "outputs": [],
      "source": [
        "#Se define model como la función de regresión lineal\n",
        "from sklearn.linear_model import LinearRegression\n",
        "model= LinearRegression()"
      ]
    },
    {
      "cell_type": "code",
      "execution_count": 7,
      "metadata": {
        "colab": {
          "base_uri": "https://localhost:8080/"
        },
        "id": "5cb3-qg0L4NV",
        "outputId": "ba51b42a-f0b0-4e45-9147-23572a63d160"
      },
      "outputs": [
        {
          "data": {
            "text/plain": [
              "sklearn.linear_model._base.LinearRegression"
            ]
          },
          "execution_count": 7,
          "metadata": {},
          "output_type": "execute_result"
        }
      ],
      "source": [
        "#Verificamos la función relacionada al modelo\n",
        "type(model)"
      ]
    },
    {
      "cell_type": "code",
      "execution_count": null,
      "metadata": {
        "colab": {
          "base_uri": "https://localhost:8080/",
          "height": 74
        },
        "id": "ZJYORGSRL6CN",
        "outputId": "36547dc4-58da-471b-f32b-10971a95706b"
      },
      "outputs": [],
      "source": [
        "#Ajustamos el modelo con las variables antes declaradas\n",
        "model.fit(X=Vars_Indep, y=Var_Dep)"
      ]
    },
    {
      "cell_type": "code",
      "execution_count": 114,
      "metadata": {
        "colab": {
          "base_uri": "https://localhost:8080/"
        },
        "id": "CKFTFN9ZL9ZO",
        "outputId": "2e500303-9e95-488a-b59f-f89689bc258b"
      },
      "outputs": [
        {
          "data": {
            "text/plain": [
              "{'fit_intercept': True,\n",
              " 'copy_X': True,\n",
              " 'n_jobs': None,\n",
              " 'positive': False,\n",
              " 'feature_names_in_': array(['instant_bookable', 'host_is_superhost', 'number_of_reviews_ltm'],\n",
              "       dtype=object),\n",
              " 'n_features_in_': 3,\n",
              " 'coef_': array([13.15900567,  5.98909995,  0.07403352]),\n",
              " 'rank_': 3,\n",
              " 'singular_': array([2467.84181042,   44.05527637,   41.88179472]),\n",
              " 'intercept_': 81.62737313211045}"
            ]
          },
          "execution_count": 114,
          "metadata": {},
          "output_type": "execute_result"
        }
      ],
      "source": [
        "#Verificamos los coeficientes obtenidos para el modelo ajustado\n",
        "model.__dict__"
      ]
    },
    {
      "cell_type": "markdown",
      "metadata": {
        "id": "VrCYFniMMfji"
      },
      "source": [
        "**Modelo matemático: y= 0.62534291x1 + 0.01978015x2 + 0.81582765x3 + 1.2098448339476615**"
      ]
    },
    {
      "cell_type": "code",
      "execution_count": 115,
      "metadata": {
        "colab": {
          "base_uri": "https://localhost:8080/"
        },
        "id": "GXzDMBRvM6GI",
        "outputId": "fe25f258-3fdf-4f34-cfcb-d42a69ab84b9"
      },
      "outputs": [
        {
          "data": {
            "text/plain": [
              "0.18531346094553125"
            ]
          },
          "execution_count": 115,
          "metadata": {},
          "output_type": "execute_result"
        }
      ],
      "source": [
        "#Evaluamos la eficiencia del modelo obtenido por medio del coeficiente R Determinación\n",
        "model.score(Vars_Indep,Var_Dep)"
      ]
    },
    {
      "cell_type": "code",
      "execution_count": null,
      "metadata": {
        "colab": {
          "base_uri": "https://localhost:8080/"
        },
        "id": "RU04vZYIM-bA",
        "outputId": "16a4d34b-72b5-4058-a58b-53f2e7051084"
      },
      "outputs": [
        {
          "data": {
            "text/plain": [
              "array([81.62737313, 81.62737313, 81.62737313, ..., 94.7863788 ,\n",
              "       94.7863788 , 81.62737313])"
            ]
          },
          "execution_count": 116,
          "metadata": {},
          "output_type": "execute_result"
        }
      ],
      "source": [
        "#Predecimos los valores de total de accidentes a partir de las variables: \"alcohol\", \"speeding\" y \"no_previous\"\n",
        "y_pred= model.predict(X=df[['instant_bookable', 'host_is_superhost']])\n",
        "y_pred"
      ]
    },
    {
      "cell_type": "code",
      "execution_count": null,
      "metadata": {
        "colab": {
          "base_uri": "https://localhost:8080/",
          "height": 1000
        },
        "id": "L3lDGuWSM_gf",
        "outputId": "a57e79ca-dac4-4253-ed64-b4a3e74c4846"
      },
      "outputs": [],
      "source": [
        "#Insertamos la columna de predicciones en el DataFrame\n",
        "df.insert(0, 'Predicciones', y_pred)\n",
        "df"
      ]
    },
    {
      "cell_type": "code",
      "execution_count": 129,
      "metadata": {
        "colab": {
          "base_uri": "https://localhost:8080/",
          "height": 467
        },
        "id": "DUp4e5nDNA7z",
        "outputId": "6d21b61d-116d-4c67-fdee-2affb5ccffee"
      },
      "outputs": [
        {
          "data": {
            "text/plain": [
              "<Axes: xlabel='instant_bookable', ylabel='host_acceptance_rate'>"
            ]
          },
          "execution_count": 129,
          "metadata": {},
          "output_type": "execute_result"
        },
        {
          "data": {
            "image/png": "[encoded data removed]",
            "text/plain": [
              "<Figure size 640x480 with 1 Axes>"
            ]
          },
          "metadata": {},
          "output_type": "display_data"
        }
      ],
      "source": [
        "#Visualizamos la gráfica comparativa entre el total real y el total predecido\n",
        "\n",
        "sns.scatterplot(x='instant_bookable', y='host_acceptance_rate', color=\"blue\", data=df)\n",
        "sns.scatterplot(x='host_is_superhost', y='Predicciones', color=\"red\", data=df)\n",
        "#sns.lineplot(x='number_of_reviews_ltm', y='Predicciones', color=\"red\", data=df)"
      ]
    },
    {
      "cell_type": "code",
      "execution_count": 119,
      "metadata": {
        "colab": {
          "base_uri": "https://localhost:8080/"
        },
        "id": "AfdyhM6eNLL7",
        "outputId": "f0befa58-af04-4594-c3f9-9bcc300efa99"
      },
      "outputs": [
        {
          "data": {
            "text/plain": [
              "0.18531346094553125"
            ]
          },
          "execution_count": 119,
          "metadata": {},
          "output_type": "execute_result"
        }
      ],
      "source": [
        "#Corroboramos cual es el coeficiente de Determinación de nuestro modelo\n",
        "coef_Deter=model.score(X=Vars_Indep, y=Var_Dep)\n",
        "coef_Deter"
      ]
    },
    {
      "cell_type": "code",
      "execution_count": 120,
      "metadata": {
        "colab": {
          "base_uri": "https://localhost:8080/"
        },
        "id": "FHBqTlkQNM3z",
        "outputId": "219f9a12-010c-4d67-8d51-07e36c9dc3f4"
      },
      "outputs": [
        {
          "data": {
            "text/plain": [
              "0.4304805000758237"
            ]
          },
          "execution_count": 120,
          "metadata": {},
          "output_type": "execute_result"
        }
      ],
      "source": [
        "#Corroboramos cual es el coeficiente de Correlación de nuestro modelo\n",
        "coef_Correl=np.sqrt(coef_Deter)\n",
        "coef_Correl"
      ]
    },
    {
      "cell_type": "code",
      "execution_count": 121,
      "metadata": {},
      "outputs": [
        {
          "name": "stdout",
          "output_type": "stream",
          "text": [
            "<class 'pandas.core.frame.DataFrame'>\n",
            "RangeIndex: 8163 entries, 0 to 8162\n",
            "Data columns (total 43 columns):\n",
            " #   Column                                        Non-Null Count  Dtype  \n",
            "---  ------                                        --------------  -----  \n",
            " 0   Predicciones                                  8163 non-null   float64\n",
            " 1   Unnamed: 0                                    8163 non-null   int64  \n",
            " 2   id                                            8163 non-null   float64\n",
            " 3   host_id                                       8163 non-null   int64  \n",
            " 4   host_acceptance_rate                          8163 non-null   float64\n",
            " 5   host_is_superhost                             8163 non-null   int64  \n",
            " 6   host_listings_count                           8163 non-null   int64  \n",
            " 7   host_total_listings_count                     8163 non-null   int64  \n",
            " 8   host_identity_verified                        8163 non-null   int64  \n",
            " 9   accommodates                                  8163 non-null   int64  \n",
            " 10  bathrooms                                     8163 non-null   float64\n",
            " 11  bedrooms                                      8163 non-null   int64  \n",
            " 12  beds                                          8163 non-null   int64  \n",
            " 13  minimum_nights                                8163 non-null   int64  \n",
            " 14  maximum_nights                                8163 non-null   int64  \n",
            " 15  minimum_minimum_nights                        8163 non-null   int64  \n",
            " 16  maximum_minimum_nights                        8163 non-null   int64  \n",
            " 17  minimum_maximum_nights                        8163 non-null   int64  \n",
            " 18  maximum_maximum_nights                        8163 non-null   int64  \n",
            " 19  minimum_nights_avg_ntm                        8163 non-null   float64\n",
            " 20  maximum_nights_avg_ntm                        8163 non-null   float64\n",
            " 21  availability_30                               8163 non-null   int64  \n",
            " 22  availability_60                               8163 non-null   int64  \n",
            " 23  availability_90                               8163 non-null   int64  \n",
            " 24  availability_365                              8163 non-null   int64  \n",
            " 25  number_of_reviews                             8163 non-null   int64  \n",
            " 26  number_of_reviews_ltm                         8163 non-null   int64  \n",
            " 27  number_of_reviews_l30d                        8163 non-null   int64  \n",
            " 28  review_scores_rating                          8163 non-null   float64\n",
            " 29  review_scores_accuracy                        8163 non-null   float64\n",
            " 30  review_scores_cleanliness                     8163 non-null   float64\n",
            " 31  review_scores_checkin                         8163 non-null   float64\n",
            " 32  review_scores_communication                   8163 non-null   float64\n",
            " 33  review_scores_location                        8163 non-null   float64\n",
            " 34  review_scores_value                           8163 non-null   float64\n",
            " 35  instant_bookable                              8163 non-null   int64  \n",
            " 36  calculated_host_listings_count                8163 non-null   int64  \n",
            " 37  calculated_host_listings_count_entire_homes   8163 non-null   int64  \n",
            " 38  calculated_host_listings_count_private_rooms  8163 non-null   int64  \n",
            " 39  calculated_host_listings_count_shared_rooms   8163 non-null   int64  \n",
            " 40  reviews_per_month                             8163 non-null   float64\n",
            " 41  host_total_listings_count.1                   8163 non-null   int64  \n",
            " 42  price                                         8163 non-null   float64\n",
            "dtypes: float64(15), int64(28)\n",
            "memory usage: 2.7 MB\n"
          ]
        }
      ],
      "source": [
        "df.info()"
      ]
    },
    {
      "cell_type": "code",
      "execution_count": null,
      "metadata": {},
      "outputs": [],
      "source": [
        "#Encontramos todas las correlaciones entre las variables\n",
        "Corr_Factors=df.corr()\n",
        "Corr_Factors"
      ]
    },
    {
      "cell_type": "code",
      "execution_count": 123,
      "metadata": {},
      "outputs": [
        {
          "data": {
            "text/plain": [
              "<Axes: >"
            ]
          },
          "execution_count": 123,
          "metadata": {},
          "output_type": "execute_result"
        },
        {
          "data": {
            "image/png": "[encoded data removed]",
            "text/plain": [
              "<Figure size 640x480 with 2 Axes>"
            ]
          },
          "metadata": {},
          "output_type": "display_data"
        }
      ],
      "source": [
        "#Encontramos todas las correlaciones entre las variab\n",
        "Corr_Factors1 = abs(Corr_Factors)\n",
        "Corr_Factors1\n",
        "#Graficamos el mapa de calor de los coeficientes de correlacion\n",
        "Heat_Map=sns.heatmap(Corr_Factors1, cmap='Blues', annot=True, fmt=\".2f\")\n",
        "Heat_Map"
      ]
    },
    {
      "cell_type": "markdown",
      "metadata": {},
      "source": [
        "host_is_superhost"
      ]
    },
    {
      "cell_type": "code",
      "execution_count": 185,
      "metadata": {},
      "outputs": [
        {
          "name": "stdout",
          "output_type": "stream",
          "text": [
            "host_is_superhost            1.000000\n",
            "Predicciones6                0.602804\n",
            "Predicciones                 0.459482\n",
            "review_scores_rating         0.325701\n",
            "Predicciones1                0.323907\n",
            "number_of_reviews_ltm        0.322243\n",
            "number_of_reviews            0.303812\n",
            "review_scores_value          0.290937\n",
            "review_scores_cleanliness    0.287359\n",
            "Name: host_is_superhost, dtype: float64\n"
          ]
        }
      ],
      "source": [
        "correlaciones = df.corr()\n",
        "# Seleccionar solo las correlaciones de 'bedrooms'\n",
        "correlaciones_bedrooms = correlaciones['host_is_superhost'].sort_values(ascending=False)\n",
        "# Mostrar las 5 variables más correlacionadas con 'bedrooms'\n",
        "print(correlaciones_bedrooms.head(9))  "
      ]
    },
    {
      "cell_type": "code",
      "execution_count": 186,
      "metadata": {},
      "outputs": [],
      "source": [
        "#Declaramos las variables dependientes e independientes para la regresión lineal\n",
        "Vars_Indep= df[['review_scores_rating', 'number_of_reviews_ltm','number_of_reviews']]\n",
        "Var_Dep= df['host_is_superhost']"
      ]
    },
    {
      "cell_type": "code",
      "execution_count": 187,
      "metadata": {},
      "outputs": [
        {
          "data": {
            "text/plain": [
              "{'fit_intercept': True,\n",
              " 'copy_X': True,\n",
              " 'n_jobs': None,\n",
              " 'positive': False,\n",
              " 'feature_names_in_': array(['review_scores_rating', 'number_of_reviews_ltm',\n",
              "        'number_of_reviews'], dtype=object),\n",
              " 'n_features_in_': 3,\n",
              " 'coef_': array([0.35442258, 0.00342086, 0.00045728]),\n",
              " 'rank_': 3,\n",
              " 'singular_': array([12137.74458463,  1700.21479415,    34.05756812]),\n",
              " 'intercept_': -1.363750139549427}"
            ]
          },
          "execution_count": 187,
          "metadata": {},
          "output_type": "execute_result"
        }
      ],
      "source": [
        "#Ajustamos el modelo con las variables antes declaradas\n",
        "model.fit(X=Vars_Indep, y=Var_Dep)\n",
        "#Verificamos los coeficientes obtenidos para el modelo ajustado\n",
        "model.__dict__"
      ]
    },
    {
      "cell_type": "code",
      "execution_count": 126,
      "metadata": {},
      "outputs": [
        {
          "data": {
            "text/plain": [
              "0.10491582205665462"
            ]
          },
          "execution_count": 126,
          "metadata": {},
          "output_type": "execute_result"
        }
      ],
      "source": [
        "#Evaluamos la eficiencia del modelo obtenido por medio del coeficiente R Determinación\n",
        "model.score(Vars_Indep,Var_Dep)"
      ]
    },
    {
      "cell_type": "code",
      "execution_count": 188,
      "metadata": {},
      "outputs": [
        {
          "data": {
            "text/plain": [
              "array([0.30786552, 0.38355319, 0.38355319, ..., 0.40836277, 0.40836277,\n",
              "       0.40836277])"
            ]
          },
          "execution_count": 188,
          "metadata": {},
          "output_type": "execute_result"
        }
      ],
      "source": [
        "#Predecimos los valores de total de accidentes a partir de las variables: \"alcohol\", \"speeding\" y \"no_previous\"\n",
        "y_pred= model.predict(X=df[['review_scores_rating', 'number_of_reviews_ltm', 'number_of_reviews']])\n",
        "y_pred\n"
      ]
    },
    {
      "cell_type": "code",
      "execution_count": null,
      "metadata": {},
      "outputs": [],
      "source": [
        "#Insertamos la columna de predicciones en el DataFrame\n",
        "df.insert(0, 'Predicciones1', y_pred)\n",
        "df"
      ]
    },
    {
      "cell_type": "code",
      "execution_count": 192,
      "metadata": {},
      "outputs": [
        {
          "data": {
            "text/plain": [
              "<Axes: xlabel='review_scores_rating', ylabel='host_is_superhost'>"
            ]
          },
          "execution_count": 192,
          "metadata": {},
          "output_type": "execute_result"
        },
        {
          "data": {
            "image/png": "[encoded data removed]",
            "text/plain": [
              "<Figure size 640x480 with 1 Axes>"
            ]
          },
          "metadata": {},
          "output_type": "display_data"
        }
      ],
      "source": [
        "#Visualizamos la gráfica comparativa entre el total real y el total predecido\n",
        "sns.scatterplot(x='review_scores_rating', y='host_is_superhost', color=\"blue\", data=df)\n",
        "sns.scatterplot(x='number_of_reviews_ltm', y='Predicciones1', color=\"red\", data=df)\n",
        "#sns.lineplot(x='number_of_reviews', y='Predicciones1', color=\"pink\", data=df)"
      ]
    },
    {
      "cell_type": "code",
      "execution_count": 193,
      "metadata": {},
      "outputs": [
        {
          "data": {
            "text/plain": [
              "0.18808261014102412"
            ]
          },
          "execution_count": 193,
          "metadata": {},
          "output_type": "execute_result"
        }
      ],
      "source": [
        "#Corroboramos cual es el coeficiente de Determinación de nuestro modelo\n",
        "coef_Deter=model.score(X=Vars_Indep, y=Var_Dep)\n",
        "coef_Deter"
      ]
    },
    {
      "cell_type": "code",
      "execution_count": 194,
      "metadata": {},
      "outputs": [
        {
          "data": {
            "text/plain": [
              "0.43368492035234996"
            ]
          },
          "execution_count": 194,
          "metadata": {},
          "output_type": "execute_result"
        }
      ],
      "source": [
        "#Corroboramos cual es el coeficiente de Correlación de nuestro modelo\n",
        "coef_Correl=np.sqrt(coef_Deter)\n",
        "coef_Correl"
      ]
    },
    {
      "cell_type": "code",
      "execution_count": null,
      "metadata": {},
      "outputs": [
        {
          "name": "stdout",
          "output_type": "stream",
          "text": [
            "<class 'pandas.core.frame.DataFrame'>\n",
            "RangeIndex: 8163 entries, 0 to 8162\n",
            "Data columns (total 45 columns):\n",
            " #   Column                                        Non-Null Count  Dtype  \n",
            "---  ------                                        --------------  -----  \n",
            " 0   Unnamed: 0                                    8163 non-null   int64  \n",
            " 1   id                                            8163 non-null   float64\n",
            " 2   host_id                                       8163 non-null   int64  \n",
            " 3   host_acceptance_rate                          8163 non-null   float64\n",
            " 4   host_is_superhost                             8163 non-null   int64  \n",
            " 5   host_listings_count                           8163 non-null   int64  \n",
            " 6   host_total_listings_count                     8163 non-null   int64  \n",
            " 7   host_identity_verified                        8163 non-null   int64  \n",
            " 8   property_type                                 8163 non-null   object \n",
            " 9   room_type                                     8163 non-null   object \n",
            " 10  accommodates                                  8163 non-null   int64  \n",
            " 11  bathrooms                                     8163 non-null   float64\n",
            " 12  bedrooms                                      8163 non-null   int64  \n",
            " 13  beds                                          8163 non-null   int64  \n",
            " 14  minimum_nights                                8163 non-null   int64  \n",
            " 15  maximum_nights                                8163 non-null   int64  \n",
            " 16  minimum_minimum_nights                        8163 non-null   int64  \n",
            " 17  maximum_minimum_nights                        8163 non-null   int64  \n",
            " 18  minimum_maximum_nights                        8163 non-null   int64  \n",
            " 19  maximum_maximum_nights                        8163 non-null   int64  \n",
            " 20  minimum_nights_avg_ntm                        8163 non-null   float64\n",
            " 21  maximum_nights_avg_ntm                        8163 non-null   float64\n",
            " 22  availability_30                               8163 non-null   int64  \n",
            " 23  availability_60                               8163 non-null   int64  \n",
            " 24  availability_90                               8163 non-null   int64  \n",
            " 25  availability_365                              8163 non-null   int64  \n",
            " 26  calendar_last_scraped                         8163 non-null   object \n",
            " 27  number_of_reviews                             8163 non-null   int64  \n",
            " 28  number_of_reviews_ltm                         8163 non-null   int64  \n",
            " 29  number_of_reviews_l30d                        8163 non-null   int64  \n",
            " 30  review_scores_rating                          8163 non-null   float64\n",
            " 31  review_scores_accuracy                        8163 non-null   float64\n",
            " 32  review_scores_cleanliness                     8163 non-null   float64\n",
            " 33  review_scores_checkin                         8163 non-null   float64\n",
            " 34  review_scores_communication                   8163 non-null   float64\n",
            " 35  review_scores_location                        8163 non-null   float64\n",
            " 36  review_scores_value                           8163 non-null   float64\n",
            " 37  instant_bookable                              8163 non-null   int64  \n",
            " 38  calculated_host_listings_count                8163 non-null   int64  \n",
            " 39  calculated_host_listings_count_entire_homes   8163 non-null   int64  \n",
            " 40  calculated_host_listings_count_private_rooms  8163 non-null   int64  \n",
            " 41  calculated_host_listings_count_shared_rooms   8163 non-null   int64  \n",
            " 42  reviews_per_month                             8163 non-null   float64\n",
            " 43  host_total_listings_count.1                   8163 non-null   int64  \n",
            " 44  price                                         8163 non-null   object \n",
            "dtypes: float64(13), int64(28), object(4)\n",
            "memory usage: 2.8+ MB\n"
          ]
        }
      ],
      "source": [
        "df.info()"
      ]
    },
    {
      "cell_type": "markdown",
      "metadata": {},
      "source": [
        "host_total_listings_count"
      ]
    },
    {
      "cell_type": "code",
      "execution_count": 134,
      "metadata": {},
      "outputs": [
        {
          "name": "stdout",
          "output_type": "stream",
          "text": [
            "host_total_listings_count.1                    1.000000\n",
            "host_total_listings_count                      1.000000\n",
            "host_listings_count                            0.966208\n",
            "calculated_host_listings_count_entire_homes    0.393373\n",
            "calculated_host_listings_count                 0.389577\n",
            "instant_bookable                               0.139386\n",
            "Name: host_total_listings_count, dtype: float64\n"
          ]
        }
      ],
      "source": [
        "correlaciones = df.corr()\n",
        "# Seleccionar solo las correlaciones de 'bedrooms'\n",
        "correlaciones_bedrooms = correlaciones['host_total_listings_count'].sort_values(ascending=False)\n",
        "# Mostrar las 5 variables más correlacionadas con 'bedrooms'\n",
        "print(correlaciones_bedrooms.head(6))  "
      ]
    },
    {
      "cell_type": "code",
      "execution_count": 138,
      "metadata": {},
      "outputs": [],
      "source": [
        "#Declaramos las variables dependientes e independientes para la regresión lineal\n",
        "Vars_Indep= df[['calculated_host_listings_count_entire_homes', 'calculated_host_listings_count','instant_bookable']]\n",
        "Var_Dep= df['host_total_listings_count']\n"
      ]
    },
    {
      "cell_type": "code",
      "execution_count": 139,
      "metadata": {},
      "outputs": [
        {
          "data": {
            "text/plain": [
              "{'fit_intercept': True,\n",
              " 'copy_X': True,\n",
              " 'n_jobs': None,\n",
              " 'positive': False,\n",
              " 'feature_names_in_': array(['calculated_host_listings_count_entire_homes',\n",
              "        'calculated_host_listings_count', 'instant_bookable'], dtype=object),\n",
              " 'n_features_in_': 3,\n",
              " 'coef_': array([1.26556088, 0.05922796, 9.79838459]),\n",
              " 'rank_': 3,\n",
              " 'singular_': array([3078.43600326,  225.47661864,   42.80356001]),\n",
              " 'intercept_': 4.6107952522384785}"
            ]
          },
          "execution_count": 139,
          "metadata": {},
          "output_type": "execute_result"
        }
      ],
      "source": [
        "#Ajustamos el modelo con las variables antes declaradas\n",
        "model.fit(X=Vars_Indep, y=Var_Dep)\n",
        "#Verificamos los coeficientes obtenidos para el modelo ajustado\n",
        "model.__dict__\n"
      ]
    },
    {
      "cell_type": "code",
      "execution_count": 140,
      "metadata": {},
      "outputs": [
        {
          "data": {
            "text/plain": [
              "0.1579088309182567"
            ]
          },
          "execution_count": 140,
          "metadata": {},
          "output_type": "execute_result"
        }
      ],
      "source": [
        "#Evaluamos la eficiencia del modelo obtenido por medio del coeficiente R Determinación\n",
        "model.score(Vars_Indep,Var_Dep)"
      ]
    },
    {
      "cell_type": "code",
      "execution_count": 142,
      "metadata": {},
      "outputs": [
        {
          "data": {
            "text/plain": [
              "array([ 5.93558409, 37.70874251, 37.70874251, ..., 17.35489732,\n",
              "       25.00749055, 15.20910597])"
            ]
          },
          "execution_count": 142,
          "metadata": {},
          "output_type": "execute_result"
        }
      ],
      "source": [
        "#Predecimos los valores de total de accidentes a partir de las variables: \"alcohol\", \"speeding\" y \"no_previous\"\n",
        "y_pred= model.predict(X=df[['calculated_host_listings_count_entire_homes', 'calculated_host_listings_count', 'instant_bookable']])\n",
        "y_pred"
      ]
    },
    {
      "cell_type": "code",
      "execution_count": null,
      "metadata": {},
      "outputs": [],
      "source": [
        "#Insertamos la columna de predicciones en el DataFrame\n",
        "df.insert(0, 'Predicciones2', y_pred)\n",
        "df"
      ]
    },
    {
      "cell_type": "code",
      "execution_count": 145,
      "metadata": {},
      "outputs": [
        {
          "name": "stderr",
          "output_type": "stream",
          "text": [
            "c:\\Users\\HP\\AppData\\Local\\Programs\\Python\\Python312\\Lib\\site-packages\\seaborn\\_oldcore.py:1119: FutureWarning: use_inf_as_na option is deprecated and will be removed in a future version. Convert inf values to NaN before operating instead.\n",
            "  with pd.option_context('mode.use_inf_as_na', True):\n",
            "c:\\Users\\HP\\AppData\\Local\\Programs\\Python\\Python312\\Lib\\site-packages\\seaborn\\_oldcore.py:1119: FutureWarning: use_inf_as_na option is deprecated and will be removed in a future version. Convert inf values to NaN before operating instead.\n",
            "  with pd.option_context('mode.use_inf_as_na', True):\n"
          ]
        },
        {
          "data": {
            "text/plain": [
              "<Axes: xlabel='calculated_host_listings_count_entire_homes', ylabel='host_total_listings_count'>"
            ]
          },
          "execution_count": 145,
          "metadata": {},
          "output_type": "execute_result"
        },
        {
          "data": {
            "image/png": "[encoded data removed]",
            "text/plain": [
              "<Figure size 640x480 with 1 Axes>"
            ]
          },
          "metadata": {},
          "output_type": "display_data"
        }
      ],
      "source": [
        "#Visualizamos la gráfica comparativa entre el total real y el total predecido\n",
        "sns.scatterplot(x='calculated_host_listings_count_entire_homes', y='host_total_listings_count', color=\"blue\", data=df)\n",
        "sns.scatterplot(x='calculated_host_listings_count', y='Predicciones2', color=\"red\", data=df)\n",
        "sns.lineplot(x='instant_bookable', y='Predicciones2', color=\"red\", data=df)"
      ]
    },
    {
      "cell_type": "code",
      "execution_count": 146,
      "metadata": {},
      "outputs": [
        {
          "data": {
            "text/plain": [
              "0.1579088309182567"
            ]
          },
          "execution_count": 146,
          "metadata": {},
          "output_type": "execute_result"
        }
      ],
      "source": [
        "#Corroboramos cual es el coeficiente de Determinación de nuestro modelo\n",
        "coef_Deter=model.score(X=Vars_Indep, y=Var_Dep)\n",
        "coef_Deter\n"
      ]
    },
    {
      "cell_type": "code",
      "execution_count": 147,
      "metadata": {},
      "outputs": [
        {
          "data": {
            "text/plain": [
              "0.39737744138068115"
            ]
          },
          "execution_count": 147,
          "metadata": {},
          "output_type": "execute_result"
        }
      ],
      "source": [
        "#Corroboramos cual es el coeficiente de Correlación de nuestro modelo\n",
        "coef_Correl=np.sqrt(coef_Deter)\n",
        "coef_Correl"
      ]
    },
    {
      "cell_type": "markdown",
      "metadata": {},
      "source": [
        "accommodates"
      ]
    },
    {
      "cell_type": "code",
      "execution_count": 148,
      "metadata": {},
      "outputs": [
        {
          "name": "stdout",
          "output_type": "stream",
          "text": [
            "accommodates                                   1.000000\n",
            "bedrooms                                       0.698706\n",
            "beds                                           0.692253\n",
            "bathrooms                                      0.471286\n",
            "calculated_host_listings_count_entire_homes    0.167823\n",
            "Predicciones2                                  0.163465\n",
            "calculated_host_listings_count                 0.139126\n",
            "availability_365                               0.098488\n",
            "Name: accommodates, dtype: float64\n"
          ]
        }
      ],
      "source": [
        "correlaciones = df.corr()\n",
        "# Seleccionar solo las correlaciones de 'bedrooms'\n",
        "correlaciones_bedrooms = correlaciones['accommodates'].sort_values(ascending=False)\n",
        "# Mostrar las 5 variables más correlacionadas con 'bedrooms'\n",
        "print(correlaciones_bedrooms.head(8))  "
      ]
    },
    {
      "cell_type": "code",
      "execution_count": 149,
      "metadata": {},
      "outputs": [],
      "source": [
        "#Declaramos las variables dependientes e independientes para la regresión lineal\n",
        "Vars_Indep= df[['beds', 'bedrooms','bathrooms']]\n",
        "Var_Dep= df['accommodates']"
      ]
    },
    {
      "cell_type": "code",
      "execution_count": 150,
      "metadata": {},
      "outputs": [
        {
          "data": {
            "text/plain": [
              "{'fit_intercept': True,\n",
              " 'copy_X': True,\n",
              " 'n_jobs': None,\n",
              " 'positive': False,\n",
              " 'feature_names_in_': array(['beds', 'bedrooms', 'bathrooms'], dtype=object),\n",
              " 'n_features_in_': 3,\n",
              " 'coef_': array([0.5214284 , 0.83353164, 0.08222455]),\n",
              " 'rank_': 3,\n",
              " 'singular_': array([149.50308505,  64.34359123,  43.88050018]),\n",
              " 'intercept_': 1.080331238000567}"
            ]
          },
          "execution_count": 150,
          "metadata": {},
          "output_type": "execute_result"
        }
      ],
      "source": [
        "#Ajustamos el modelo con las variables antes declaradas\n",
        "model.fit(X=Vars_Indep, y=Var_Dep)\n",
        "#Verificamos los coeficientes obtenidos para el modelo ajustado\n",
        "model.__dict__\n"
      ]
    },
    {
      "cell_type": "code",
      "execution_count": 151,
      "metadata": {},
      "outputs": [
        {
          "data": {
            "text/plain": [
              "0.5890216374549611"
            ]
          },
          "execution_count": 151,
          "metadata": {},
          "output_type": "execute_result"
        }
      ],
      "source": [
        "#Evaluamos la eficiencia del modelo obtenido por medio del coeficiente R Determinación\n",
        "model.score(Vars_Indep,Var_Dep)"
      ]
    },
    {
      "cell_type": "code",
      "execution_count": 152,
      "metadata": {},
      "outputs": [
        {
          "data": {
            "text/plain": [
              "array([3.03894424, 3.87247588, 3.03894424, ..., 4.1640256 , 7.26827348,\n",
              "       3.91358816])"
            ]
          },
          "execution_count": 152,
          "metadata": {},
          "output_type": "execute_result"
        }
      ],
      "source": [
        "#Predecimos los valores de total de accidentes a partir de las variables: \"alcohol\", \"speeding\" y \"no_previous\"\n",
        "y_pred= model.predict(X=df[['beds', 'bedrooms', 'bathrooms']])\n",
        "y_pred"
      ]
    },
    {
      "cell_type": "code",
      "execution_count": null,
      "metadata": {},
      "outputs": [],
      "source": [
        "#Insertamos la columna de predicciones en el DataFrame\n",
        "df.insert(0, 'Prediccione3', y_pred)\n",
        "df\n"
      ]
    },
    {
      "cell_type": "code",
      "execution_count": 156,
      "metadata": {},
      "outputs": [
        {
          "data": {
            "text/plain": [
              "<Axes: xlabel='beds', ylabel='accommodates'>"
            ]
          },
          "execution_count": 156,
          "metadata": {},
          "output_type": "execute_result"
        },
        {
          "data": {
            "image/png": "[encoded data removed]",
            "text/plain": [
              "<Figure size 640x480 with 1 Axes>"
            ]
          },
          "metadata": {},
          "output_type": "display_data"
        }
      ],
      "source": [
        "#Visualizamos la gráfica comparativa entre el total real y el total predecido\n",
        "sns.scatterplot(x='beds', y='accommodates', color=\"blue\", data=df)\n",
        "sns.scatterplot(x='bathrooms', y='Prediccione3', color=\"red\", data=df)\n",
        "#sns.lineplot(x='bedrooms', y='Prediccione3', color=\"red\", data=df)"
      ]
    },
    {
      "cell_type": "code",
      "execution_count": 157,
      "metadata": {},
      "outputs": [
        {
          "data": {
            "text/plain": [
              "0.5890216374549611"
            ]
          },
          "execution_count": 157,
          "metadata": {},
          "output_type": "execute_result"
        }
      ],
      "source": [
        "#Corroboramos cual es el coeficiente de Determinación de nuestro modelo\n",
        "coef_Deter=model.score(X=Vars_Indep, y=Var_Dep)\n",
        "coef_Deter"
      ]
    },
    {
      "cell_type": "code",
      "execution_count": 158,
      "metadata": {},
      "outputs": [
        {
          "data": {
            "text/plain": [
              "0.7674774507794747"
            ]
          },
          "execution_count": 158,
          "metadata": {},
          "output_type": "execute_result"
        }
      ],
      "source": [
        "#Corroboramos cual es el coeficiente de Correlación de nuestro modelo\n",
        "coef_Correl=np.sqrt(coef_Deter)\n",
        "coef_Correl"
      ]
    },
    {
      "cell_type": "markdown",
      "metadata": {},
      "source": [
        "bedrooms"
      ]
    },
    {
      "cell_type": "code",
      "execution_count": null,
      "metadata": {},
      "outputs": [
        {
          "name": "stdout",
          "output_type": "stream",
          "text": [
            "bedrooms                                       1.000000\n",
            "Prediccione                                    0.995715\n",
            "accommodates                                   0.698706\n",
            "beds                                           0.644184\n",
            "bathrooms                                      0.601391\n",
            "calculated_host_listings_count_entire_homes    0.104126\n",
            "Name: bedrooms, dtype: float64\n"
          ]
        }
      ],
      "source": [
        "correlaciones = df.corr()\n",
        "# Seleccionar solo las correlaciones de 'bedrooms'\n",
        "correlaciones_bedrooms = correlaciones['bedrooms'].sort_values(ascending=False)\n",
        "# Mostrar las 5 variables más correlacionadas con 'bedrooms'\n",
        "print(correlaciones_bedrooms.head(6)) "
      ]
    },
    {
      "cell_type": "code",
      "execution_count": 159,
      "metadata": {},
      "outputs": [],
      "source": [
        "#Declaramos las variables dependientes e independientes para la regresión lineal\n",
        "Vars_Indep= df[['accommodates', 'beds','bathrooms']]\n",
        "Var_Dep= df['bedrooms']\n",
        "\n"
      ]
    },
    {
      "cell_type": "code",
      "execution_count": 160,
      "metadata": {},
      "outputs": [
        {
          "data": {
            "text/plain": [
              "{'fit_intercept': True,\n",
              " 'copy_X': True,\n",
              " 'n_jobs': None,\n",
              " 'positive': False,\n",
              " 'feature_names_in_': array(['accommodates', 'beds', 'bathrooms'], dtype=object),\n",
              " 'n_features_in_': 3,\n",
              " 'coef_': array([0.19777863, 0.14367098, 0.41289548]),\n",
              " 'rank_': 3,\n",
              " 'singular_': array([200.44701352,  81.05053404,  53.33875955]),\n",
              " 'intercept_': -0.022588116438802652}"
            ]
          },
          "execution_count": 160,
          "metadata": {},
          "output_type": "execute_result"
        }
      ],
      "source": [
        "#Ajustamos el modelo con las variables antes declaradas\n",
        "model.fit(X=Vars_Indep, y=Var_Dep)\n",
        "#Verificamos los coeficientes obtenidos para el modelo ajustado\n",
        "model.__dict__\n"
      ]
    },
    {
      "cell_type": "code",
      "execution_count": 161,
      "metadata": {},
      "outputs": [
        {
          "data": {
            "text/plain": [
              "0.6087687336126423"
            ]
          },
          "execution_count": 161,
          "metadata": {},
          "output_type": "execute_result"
        }
      ],
      "source": [
        "#Evaluamos la eficiencia del modelo obtenido por medio del coeficiente R Determinación\n",
        "model.score(Vars_Indep,Var_Dep)\n"
      ]
    },
    {
      "cell_type": "code",
      "execution_count": 162,
      "metadata": {},
      "outputs": [
        {
          "data": {
            "text/plain": [
              "array([1.07320659, 1.46876385, 1.07320659, ..., 2.16900129, 3.71446091,\n",
              "       2.07076885])"
            ]
          },
          "execution_count": 162,
          "metadata": {},
          "output_type": "execute_result"
        }
      ],
      "source": [
        "#Predecimos los valores de total de accidentes a partir de las variables: \"alcohol\", \"speeding\" y \"no_previous\"\n",
        "y_pred= model.predict(X=df[['accommodates', 'beds', 'bathrooms']])\n",
        "y_pred"
      ]
    },
    {
      "cell_type": "code",
      "execution_count": null,
      "metadata": {},
      "outputs": [],
      "source": [
        "#Insertamos la columna de predicciones en el DataFrame\n",
        "df.insert(0, 'Predicciones4', y_pred)\n",
        "df"
      ]
    },
    {
      "cell_type": "code",
      "execution_count": 166,
      "metadata": {},
      "outputs": [
        {
          "data": {
            "text/plain": [
              "<Axes: xlabel='accommodates', ylabel='bedrooms'>"
            ]
          },
          "execution_count": 166,
          "metadata": {},
          "output_type": "execute_result"
        },
        {
          "data": {
            "image/png": "[encoded data removed]",
            "text/plain": [
              "<Figure size 640x480 with 1 Axes>"
            ]
          },
          "metadata": {},
          "output_type": "display_data"
        }
      ],
      "source": [
        "#Visualizamos la gráfica comparativa entre el total real y el total predecido\n",
        "sns.scatterplot(x='accommodates', y='bedrooms', color=\"blue\", data=df)\n",
        "sns.scatterplot(x='beds', y='Predicciones', color=\"red\", data=df)\n",
        "#sns.lineplot(x='bathrooms', y='Predicciones', color=\"pink\", data=df)"
      ]
    },
    {
      "cell_type": "code",
      "execution_count": null,
      "metadata": {},
      "outputs": [
        {
          "data": {
            "text/plain": [
              "0.6087687336126423"
            ]
          },
          "execution_count": 68,
          "metadata": {},
          "output_type": "execute_result"
        }
      ],
      "source": [
        "#Corroboramos cual es el coeficiente de Determinación de nuestro modelo\n",
        "coef_Deter=model.score(X=Vars_Indep, y=Var_Dep)\n",
        "coef_Deter"
      ]
    },
    {
      "cell_type": "code",
      "execution_count": null,
      "metadata": {},
      "outputs": [
        {
          "data": {
            "text/plain": [
              "0.7802363318973567"
            ]
          },
          "execution_count": 69,
          "metadata": {},
          "output_type": "execute_result"
        }
      ],
      "source": [
        "#Corroboramos cual es el coeficiente de Correlación de nuestro modelo\n",
        "coef_Correl=np.sqrt(coef_Deter)\n",
        "coef_Correl"
      ]
    },
    {
      "cell_type": "markdown",
      "metadata": {},
      "source": [
        "Price\n"
      ]
    },
    {
      "cell_type": "code",
      "execution_count": 176,
      "metadata": {},
      "outputs": [
        {
          "name": "stdout",
          "output_type": "stream",
          "text": [
            "price                     1.000000\n",
            "Predicciones1             0.061494\n",
            "number_of_reviews         0.025741\n",
            "maximum_nights_avg_ntm    0.022856\n",
            "host_is_superhost         0.019918\n",
            "maximum_maximum_nights    0.018225\n",
            "Name: price, dtype: float64\n"
          ]
        }
      ],
      "source": [
        "correlaciones = df.corr()\n",
        "# Seleccionar solo las correlaciones de 'bedrooms'\n",
        "correlaciones_bedrooms = correlaciones['price'].sort_values(ascending=False)\n",
        "# Mostrar las 5 variables más correlacionadas con 'bedrooms'\n",
        "print(correlaciones_bedrooms.head(6)) "
      ]
    },
    {
      "cell_type": "code",
      "execution_count": 9,
      "metadata": {},
      "outputs": [],
      "source": [
        "#Declaramos las variables dependientes e independientes para la regresión lineal\n",
        "Vars_Indep= df[['number_of_reviews', 'maximum_nights_avg_ntm','host_is_superhost']]\n",
        "Var_Dep= df['price']"
      ]
    },
    {
      "cell_type": "code",
      "execution_count": 10,
      "metadata": {},
      "outputs": [
        {
          "data": {
            "text/plain": [
              "{'fit_intercept': True,\n",
              " 'copy_X': True,\n",
              " 'n_jobs': None,\n",
              " 'positive': False,\n",
              " 'feature_names_in_': array(['number_of_reviews', 'maximum_nights_avg_ntm', 'host_is_superhost'],\n",
              "       dtype=object),\n",
              " 'n_features_in_': 3,\n",
              " 'coef_': array([ 0.05761238,  0.01458811, 10.0540547 ]),\n",
              " 'rank_': 3,\n",
              " 'singular_': array([4.39136665e+04, 1.16595729e+04, 4.22947697e+01]),\n",
              " 'intercept_': 229.56663633903324}"
            ]
          },
          "execution_count": 10,
          "metadata": {},
          "output_type": "execute_result"
        }
      ],
      "source": [
        "#Ajustamos el modelo con las variables antes declaradas\n",
        "model.fit(X=Vars_Indep, y=Var_Dep)\n",
        "#Verificamos los coeficientes obtenidos para el modelo ajustado\n",
        "model.__dict__"
      ]
    },
    {
      "cell_type": "code",
      "execution_count": 11,
      "metadata": {},
      "outputs": [
        {
          "data": {
            "text/plain": [
              "0.0010918366942636037"
            ]
          },
          "execution_count": 11,
          "metadata": {},
          "output_type": "execute_result"
        }
      ],
      "source": [
        "#Evaluamos la eficiencia del modelo obtenido por medio del coeficiente R Determinación\n",
        "model.score(Vars_Indep,Var_Dep)"
      ]
    },
    {
      "cell_type": "code",
      "execution_count": 12,
      "metadata": {},
      "outputs": [
        {
          "data": {
            "text/plain": [
              "array([231.78656314, 230.00427976, 234.89129795, ..., 244.14016224,\n",
              "       234.89129795, 234.89129795])"
            ]
          },
          "execution_count": 12,
          "metadata": {},
          "output_type": "execute_result"
        }
      ],
      "source": [
        "#Predecimos los valores de total de accidentes a partir de las variables: \"alcohol\", \"speeding\" y \"no_previous\"\n",
        "y_pred= model.predict(X=df[['number_of_reviews', 'maximum_nights_avg_ntm', 'host_is_superhost']])\n",
        "y_pred"
      ]
    },
    {
      "cell_type": "code",
      "execution_count": null,
      "metadata": {},
      "outputs": [],
      "source": [
        "#Insertamos la columna de predicciones en el DataFrame\n",
        "df.insert(0, 'Predicciones6', y_pred)\n",
        "df\n"
      ]
    },
    {
      "cell_type": "code",
      "execution_count": 17,
      "metadata": {},
      "outputs": [
        {
          "name": "stderr",
          "output_type": "stream",
          "text": [
            "c:\\Users\\HP\\AppData\\Local\\Programs\\Python\\Python312\\Lib\\site-packages\\seaborn\\_oldcore.py:1119: FutureWarning: use_inf_as_na option is deprecated and will be removed in a future version. Convert inf values to NaN before operating instead.\n",
            "  with pd.option_context('mode.use_inf_as_na', True):\n",
            "c:\\Users\\HP\\AppData\\Local\\Programs\\Python\\Python312\\Lib\\site-packages\\seaborn\\_oldcore.py:1119: FutureWarning: use_inf_as_na option is deprecated and will be removed in a future version. Convert inf values to NaN before operating instead.\n",
            "  with pd.option_context('mode.use_inf_as_na', True):\n"
          ]
        },
        {
          "data": {
            "text/plain": [
              "<Axes: xlabel='number_of_reviews_ltm', ylabel='price'>"
            ]
          },
          "execution_count": 17,
          "metadata": {},
          "output_type": "execute_result"
        },
        {
          "data": {
            "image/png": "[encoded data removed]",
            "text/plain": [
              "<Figure size 640x480 with 1 Axes>"
            ]
          },
          "metadata": {},
          "output_type": "display_data"
        }
      ],
      "source": [
        "#Visualizamos la gráfica comparativa entre el total real y el total predecido\n",
        "sns.scatterplot(x='number_of_reviews_ltm', y='price', color=\"blue\", data=df)\n",
        "sns.scatterplot(x='number_of_reviews', y='Predicciones6', color=\"red\", data=df)\n",
        "sns.lineplot(x='host_is_superhost', y='Predicciones6', color=\"red\", data=df)"
      ]
    },
    {
      "cell_type": "code",
      "execution_count": 15,
      "metadata": {},
      "outputs": [
        {
          "data": {
            "text/plain": [
              "0.0010918366942636037"
            ]
          },
          "execution_count": 15,
          "metadata": {},
          "output_type": "execute_result"
        }
      ],
      "source": [
        "#Corroboramos cual es el coeficiente de Determinación de nuestro modelo\n",
        "coef_Deter=model.score(X=Vars_Indep, y=Var_Dep)\n",
        "coef_Deter\n"
      ]
    },
    {
      "cell_type": "code",
      "execution_count": 16,
      "metadata": {},
      "outputs": [
        {
          "data": {
            "text/plain": [
              "0.03304295226313175"
            ]
          },
          "execution_count": 16,
          "metadata": {},
          "output_type": "execute_result"
        }
      ],
      "source": [
        "\n",
        "#Corroboramos cual es el coeficiente de Correlación de nuestro modelo\n",
        "coef_Correl=np.sqrt(coef_Deter)\n",
        "coef_Correl"
      ]
    },
    {
      "cell_type": "markdown",
      "metadata": {},
      "source": [
        "reviews_per_month"
      ]
    },
    {
      "cell_type": "code",
      "execution_count": null,
      "metadata": {},
      "outputs": [
        {
          "name": "stdout",
          "output_type": "stream",
          "text": [
            "reviews_per_month         1.000000\n",
            "number_of_reviews_ltm     0.789281\n",
            "Predicciones              0.693645\n",
            "number_of_reviews         0.568402\n",
            "number_of_reviews_l30d    0.559387\n",
            "host_is_superhost         0.224675\n",
            "Name: reviews_per_month, dtype: float64\n"
          ]
        }
      ],
      "source": [
        "correlaciones = df.corr()\n",
        "# Seleccionar solo las correlaciones de 'bedrooms'\n",
        "correlaciones_bedrooms = correlaciones['reviews_per_month'].sort_values(ascending=False)\n",
        "# Mostrar las 5 variables más correlacionadas con 'bedrooms'\n",
        "print(correlaciones_bedrooms.head(6))  \n"
      ]
    },
    {
      "cell_type": "code",
      "execution_count": 167,
      "metadata": {},
      "outputs": [],
      "source": [
        "#Declaramos las variables dependientes e independientes para la regresión lineal\n",
        "Vars_Indep= df[['number_of_reviews_ltm', 'number_of_reviews','host_is_superhost']]\n",
        "Var_Dep= df['reviews_per_month']"
      ]
    },
    {
      "cell_type": "code",
      "execution_count": 168,
      "metadata": {},
      "outputs": [
        {
          "data": {
            "text/plain": [
              "{'fit_intercept': True,\n",
              " 'copy_X': True,\n",
              " 'n_jobs': None,\n",
              " 'positive': False,\n",
              " 'feature_names_in_': array(['number_of_reviews_ltm', 'number_of_reviews', 'host_is_superhost'],\n",
              "       dtype=object),\n",
              " 'n_features_in_': 3,\n",
              " 'coef_': array([ 0.06348613,  0.00015444, -0.15005191]),\n",
              " 'rank_': 3,\n",
              " 'singular_': array([12137.75096743,  1700.22547505,    41.92709755]),\n",
              " 'intercept_': 0.7729418155404675}"
            ]
          },
          "execution_count": 168,
          "metadata": {},
          "output_type": "execute_result"
        }
      ],
      "source": [
        "#Ajustamos el modelo con las variables antes declaradas\n",
        "model.fit(X=Vars_Indep, y=Var_Dep)\n",
        "#Verificamos los coeficientes obtenidos para el modelo ajustado\n",
        "model.__dict__"
      ]
    },
    {
      "cell_type": "code",
      "execution_count": 169,
      "metadata": {},
      "outputs": [
        {
          "data": {
            "text/plain": [
              "0.6239887229396658"
            ]
          },
          "execution_count": 169,
          "metadata": {},
          "output_type": "execute_result"
        }
      ],
      "source": [
        "#Evaluamos la eficiencia del modelo obtenido por medio del coeficiente R Determinación\n",
        "model.score(Vars_Indep,Var_Dep)"
      ]
    },
    {
      "cell_type": "code",
      "execution_count": 170,
      "metadata": {},
      "outputs": [
        {
          "data": {
            "text/plain": [
              "array([0.77850149, 0.77294182, 0.77294182, ..., 0.77294182, 0.77294182,\n",
              "       0.77294182])"
            ]
          },
          "execution_count": 170,
          "metadata": {},
          "output_type": "execute_result"
        }
      ],
      "source": [
        "#Predecimos los valores de total de accidentes a partir de las variables: \"alcohol\", \"speeding\" y \"no_previous\"\n",
        "y_pred= model.predict(X=df[['number_of_reviews_ltm', 'number_of_reviews', 'host_is_superhost']])\n",
        "y_pred"
      ]
    },
    {
      "cell_type": "code",
      "execution_count": null,
      "metadata": {},
      "outputs": [],
      "source": [
        "#Insertamos la columna de predicciones en el DataFrame\n",
        "df.insert(0, 'Predicciones5', y_pred)\n",
        "df"
      ]
    },
    {
      "cell_type": "code",
      "execution_count": 172,
      "metadata": {},
      "outputs": [
        {
          "name": "stderr",
          "output_type": "stream",
          "text": [
            "c:\\Users\\HP\\AppData\\Local\\Programs\\Python\\Python312\\Lib\\site-packages\\seaborn\\_oldcore.py:1119: FutureWarning: use_inf_as_na option is deprecated and will be removed in a future version. Convert inf values to NaN before operating instead.\n",
            "  with pd.option_context('mode.use_inf_as_na', True):\n",
            "c:\\Users\\HP\\AppData\\Local\\Programs\\Python\\Python312\\Lib\\site-packages\\seaborn\\_oldcore.py:1119: FutureWarning: use_inf_as_na option is deprecated and will be removed in a future version. Convert inf values to NaN before operating instead.\n",
            "  with pd.option_context('mode.use_inf_as_na', True):\n"
          ]
        },
        {
          "data": {
            "text/plain": [
              "<Axes: xlabel='number_of_reviews_ltm', ylabel='host_acceptance_rate'>"
            ]
          },
          "execution_count": 172,
          "metadata": {},
          "output_type": "execute_result"
        },
        {
          "data": {
            "image/png": "[encoded data removed]",
            "text/plain": [
              "<Figure size 640x480 with 1 Axes>"
            ]
          },
          "metadata": {},
          "output_type": "display_data"
        }
      ],
      "source": [
        "#Visualizamos la gráfica comparativa entre el total real y el total predecido\n",
        "sns.scatterplot(x='number_of_reviews_ltm', y='host_acceptance_rate', color=\"blue\", data=df)\n",
        "sns.scatterplot(x='number_of_reviews', y='Predicciones5', color=\"red\", data=df)\n",
        "sns.lineplot(x='host_is_superhost', y='Predicciones5', color=\"red\", data=df)"
      ]
    },
    {
      "cell_type": "code",
      "execution_count": 173,
      "metadata": {},
      "outputs": [
        {
          "data": {
            "text/plain": [
              "0.6239887229396658"
            ]
          },
          "execution_count": 173,
          "metadata": {},
          "output_type": "execute_result"
        }
      ],
      "source": [
        "#Corroboramos cual es el coeficiente de Determinación de nuestro modelo\n",
        "coef_Deter=model.score(X=Vars_Indep, y=Var_Dep)\n",
        "coef_Deter"
      ]
    },
    {
      "cell_type": "code",
      "execution_count": 174,
      "metadata": {},
      "outputs": [
        {
          "data": {
            "text/plain": [
              "0.7899295683411691"
            ]
          },
          "execution_count": 174,
          "metadata": {},
          "output_type": "execute_result"
        }
      ],
      "source": [
        "#Corroboramos cual es el coeficiente de Correlación de nuestro modelo\n",
        "coef_Correl=np.sqrt(coef_Deter)\n",
        "coef_Correl"
      ]
    }
  ],
  "metadata": {
    "colab": {
      "authorship_tag": "ABX9TyPoyuRqB4HxMckBwGbktfLv",
      "include_colab_link": true,
      "provenance": []
    },
    "kernelspec": {
      "display_name": "Python 3",
      "name": "python3"
    },
    "language_info": {
      "codemirror_mode": {
        "name": "ipython",
        "version": 3
      },
      "file_extension": ".py",
      "mimetype": "text/x-python",
      "name": "python",
      "nbconvert_exporter": "python",
      "pygments_lexer": "ipython3",
      "version": "3.12.4"
    }
  },
  "nbformat": 4,
  "nbformat_minor": 0
}
